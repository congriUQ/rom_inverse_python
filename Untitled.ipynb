{
 "cells": [
  {
   "cell_type": "code",
   "execution_count": 14,
   "metadata": {},
   "outputs": [],
   "source": [
    "%matplotlib qt\n",
    "import matplotlib.pyplot as plt\n",
    "from mpl_toolkits.axes_grid1 import make_axes_locatable\n",
    "import torch\n",
    "import pyro.ops as ops"
   ]
  },
  {
   "cell_type": "code",
   "execution_count": 11,
   "metadata": {},
   "outputs": [],
   "source": [
    "x_true50 = torch.load('/home/constantin/cluster/python/data/rom_inverse/mcmc/resolution=64/beta=50/l=0.3_0.1/var=2.0/n_samples=2000/n_warmup=500/02-27-21-04-836031140/x_true.pt')\n",
    "x_samples50 = torch.load('/home/constantin/cluster/python/data/rom_inverse/mcmc/resolution=64/beta=50/l=0.3_0.1/var=2.0/n_samples=2000/n_warmup=500/02-27-21-04-836031140/x_samples.pt')\n",
    "x_true05 = torch.load('/home/constantin/cluster/python/data/rom_inverse/mcmc/resolution=64/beta=0.5/l=0.3_0.1/var=2.0/n_samples=2000/n_warmup=500/02-27-21-03-051174826/x_true.pt')\n",
    "x_samples05 = torch.load('/home/constantin/cluster/python/data/rom_inverse/mcmc/resolution=64/beta=0.5/l=0.3_0.1/var=2.0/n_samples=2000/n_warmup=500/02-27-21-03-051174826/x_samples.pt')"
   ]
  },
  {
   "cell_type": "code",
   "execution_count": 18,
   "metadata": {},
   "outputs": [
    {
     "data": {
      "text/plain": [
       "<matplotlib.colorbar.Colorbar at 0x7f6e0b66d4c0>"
      ]
     },
     "execution_count": 18,
     "metadata": {},
     "output_type": "execute_result"
    }
   ],
   "source": [
    "lin_dim_fom = 64\n",
    "fig = plt.figure(figsize=(30, 20))\n",
    "ax = plt.subplot(1, 2, 1)\n",
    "plt.title(r'$\\beta = 50$, true $\\log~ \\lambda_f$')\n",
    "im0 = ax.imshow(x_true50[0].view(lin_dim_fom, lin_dim_fom))\n",
    "divider = make_axes_locatable(ax)\n",
    "cax = divider.append_axes(\"right\", size=\"5%\", pad=0.1)\n",
    "plt.colorbar(im0, cax=cax)\n",
    "\n",
    "\n",
    "ax = plt.subplot(1, 2, 2)\n",
    "plt.title(r'$\\beta = 50$, MCMC estimate $\\left<\\log~ \\lambda_f\\right>$')\n",
    "im1 = ax.imshow(torch.mean(x_samples50, 0).view(lin_dim_fom, lin_dim_fom))\n",
    "divider = make_axes_locatable(ax)\n",
    "cax = divider.append_axes(\"right\", size=\"5%\", pad=0.1)\n",
    "plt.colorbar(im1, cax=cax)"
   ]
  },
  {
   "cell_type": "code",
   "execution_count": 19,
   "metadata": {},
   "outputs": [
    {
     "data": {
      "text/plain": [
       "<matplotlib.colorbar.Colorbar at 0x7f6e0b82c6a0>"
      ]
     },
     "execution_count": 19,
     "metadata": {},
     "output_type": "execute_result"
    }
   ],
   "source": [
    "lin_dim_fom = 64\n",
    "fig = plt.figure(figsize=(30, 20))\n",
    "ax = plt.subplot(1, 2, 1)\n",
    "plt.title(r'$\\beta = 0.5$, true $\\log~ \\lambda_f$')\n",
    "im0 = ax.imshow(x_true05[0].view(lin_dim_fom, lin_dim_fom))\n",
    "divider = make_axes_locatable(ax)\n",
    "cax = divider.append_axes(\"right\", size=\"5%\", pad=0.1)\n",
    "plt.colorbar(im0, cax=cax)\n",
    "\n",
    "\n",
    "ax = plt.subplot(1, 2, 2)\n",
    "plt.title(r'$\\beta = 0.5$, MCMC estimate $\\left<\\log~ \\lambda_f\\right>$')\n",
    "im1 = ax.imshow(torch.mean(x_samples05, 0).view(lin_dim_fom, lin_dim_fom))\n",
    "divider = make_axes_locatable(ax)\n",
    "cax = divider.append_axes(\"right\", size=\"5%\", pad=0.1)\n",
    "plt.colorbar(im1, cax=cax)"
   ]
  },
  {
   "cell_type": "code",
   "execution_count": 3,
   "metadata": {},
   "outputs": [
    {
     "data": {
      "text/plain": [
       "[<matplotlib.lines.Line2D at 0x7f6e37161d00>]"
      ]
     },
     "execution_count": 3,
     "metadata": {},
     "output_type": "execute_result"
    }
   ],
   "source": [
    "fig = plt.figure(figsize=(30, 20))\n",
    "\n",
    "ax = plt.subplot(1, 2, 1)\n",
    "plt.plot(x_samples50[:2000, 1234])\n",
    "plt.plot(x_samples50[:2000, 2345])\n",
    "plt.plot(x_samples50[:2000, 3456])\n",
    "plt.xlabel('MCMC iteration')\n",
    "plt.ylabel('Pixel value')\n",
    "plt.title(r'$\\beta = 50$')\n",
    "plt.plot(range(2000), x_true50[0, 1234]*torch.ones(2000), 'r')\n",
    "ax.legend(['pixel 1234', 'pixel 2345', 'pixel 3456', 'truth'])\n",
    "plt.plot(range(2000), x_true50[0, 2345]*torch.ones(2000), 'r')\n",
    "plt.plot(range(2000), x_true50[0, 3456]*torch.ones(2000), 'r')\n",
    "\n",
    "ax = plt.subplot(1, 2, 2)\n",
    "l1 = plt.plot(x_samples05[:2000, 1234])\n",
    "l2 = plt.plot(x_samples05[:2000, 2345])\n",
    "l3 = plt.plot(x_samples05[:2000, 3456])\n",
    "plt.xlabel('MCMC iteration')\n",
    "plt.ylabel('Pixel value')\n",
    "plt.title(r'$\\beta = 0.5$')\n",
    "plt.plot(range(2000), x_true05[0, 1234]*torch.ones(2000), color=l1[0].get_color())\n",
    "ax.legend(['pixel 1234', 'pixel 2345', 'pixel 3456', 'truth'])\n",
    "plt.plot(range(2000), x_true05[0, 2345]*torch.ones(2000), color=l2[0].get_color())\n",
    "plt.plot(range(2000), x_true05[0, 3456]*torch.ones(2000), color=l3[0].get_color())"
   ]
  },
  {
   "cell_type": "code",
   "execution_count": 4,
   "metadata": {},
   "outputs": [],
   "source": [
    "autocorr50 = ops.stats.autocorrelation(x_samples50)\n",
    "autocorr05 = ops.stats.autocorrelation(x_samples05)"
   ]
  },
  {
   "cell_type": "code",
   "execution_count": 5,
   "metadata": {},
   "outputs": [
    {
     "data": {
      "text/plain": [
       "<matplotlib.legend.Legend at 0x7f6e360bed00>"
      ]
     },
     "execution_count": 5,
     "metadata": {},
     "output_type": "execute_result"
    }
   ],
   "source": [
    "fig = plt.figure(figsize=(30, 20))\n",
    "\n",
    "ax = plt.subplot(1, 2, 1)\n",
    "plt.plot(autocorr50[:2000, 1234])\n",
    "plt.plot(autocorr50[:2000, 2345])\n",
    "plt.plot(autocorr50[:2000, 3456])\n",
    "plt.xlabel('MCMC iteration')\n",
    "plt.ylabel('Pixel autocorrelation')\n",
    "plt.title(r'$\\beta = 50$')\n",
    "ax.legend(['pixel 1234', 'pixel 2345', 'pixel 3456'])\n",
    "\n",
    "ax = plt.subplot(1, 2, 2)\n",
    "l1 = plt.plot(autocorr05[:2000, 1234])\n",
    "l2 = plt.plot(autocorr05[:2000, 2345])\n",
    "l3 = plt.plot(autocorr05[:2000, 3456])\n",
    "plt.xlabel('MCMC iteration')\n",
    "plt.ylabel('Pixel autocorrelation')\n",
    "plt.title(r'$\\beta = 0.5$')\n",
    "ax.legend(['pixel 1234', 'pixel 2345', 'pixel 3456'])"
   ]
  },
  {
   "cell_type": "code",
   "execution_count": 23,
   "metadata": {},
   "outputs": [],
   "source": [
    "x_true50 = torch.load('/home/constantin/cluster/python/data/rom_inverse/mcmc/resolution=32/beta=50/l=0.3_0.1/var=2.0/n_samples=2000/n_warmup=500/02-27-21-02-181204271/x_true.pt')\n",
    "x_samples50 = torch.load('/home/constantin/cluster/python/data/rom_inverse/mcmc/resolution=32/beta=50/l=0.3_0.1/var=2.0/n_samples=2000/n_warmup=500/02-27-21-02-181204271/x_samples.pt')\n",
    "x_true1 = torch.load('/home/constantin/cluster/python/data/rom_inverse/mcmc/resolution=32/beta=1/l=0.3_0.1/var=2.0/n_samples=2000/n_warmup=500/02-27-21-03-223177045/x_true.pt')\n",
    "x_samples1 = torch.load('/home/constantin/cluster/python/data/rom_inverse/mcmc/resolution=32/beta=1/l=0.3_0.1/var=2.0/n_samples=2000/n_warmup=500/02-27-21-03-223177045/x_samples.pt')"
   ]
  },
  {
   "cell_type": "code",
   "execution_count": 21,
   "metadata": {},
   "outputs": [
    {
     "data": {
      "text/plain": [
       "<matplotlib.colorbar.Colorbar at 0x7f6e0af35d60>"
      ]
     },
     "execution_count": 21,
     "metadata": {},
     "output_type": "execute_result"
    }
   ],
   "source": [
    "lin_dim_fom = 32\n",
    "fig = plt.figure(figsize=(30, 20))\n",
    "ax = plt.subplot(1, 2, 1)\n",
    "plt.title(r'$\\beta = 50$, true $\\log~ \\lambda_f$')\n",
    "im0 = ax.imshow(x_true50[0].view(lin_dim_fom, lin_dim_fom))\n",
    "divider = make_axes_locatable(ax)\n",
    "cax = divider.append_axes(\"right\", size=\"5%\", pad=0.1)\n",
    "plt.colorbar(im0, cax=cax)\n",
    "\n",
    "\n",
    "ax = plt.subplot(1, 2, 2)\n",
    "plt.title(r'$\\beta = 50$, MCMC estimate $\\left<\\log~ \\lambda_f\\right>$')\n",
    "im1 = ax.imshow(torch.mean(x_samples50, 0).view(lin_dim_fom, lin_dim_fom))\n",
    "divider = make_axes_locatable(ax)\n",
    "cax = divider.append_axes(\"right\", size=\"5%\", pad=0.1)\n",
    "plt.colorbar(im1, cax=cax)"
   ]
  },
  {
   "cell_type": "code",
   "execution_count": 22,
   "metadata": {},
   "outputs": [
    {
     "data": {
      "text/plain": [
       "<matplotlib.colorbar.Colorbar at 0x7f6e07bfff70>"
      ]
     },
     "execution_count": 22,
     "metadata": {},
     "output_type": "execute_result"
    }
   ],
   "source": [
    "lin_dim_fom = 32\n",
    "fig = plt.figure(figsize=(30, 20))\n",
    "ax = plt.subplot(1, 2, 1)\n",
    "plt.title(r'$\\beta = 1$, true $\\log~ \\lambda_f$')\n",
    "im0 = ax.imshow(x_true1[0].view(lin_dim_fom, lin_dim_fom))\n",
    "divider = make_axes_locatable(ax)\n",
    "cax = divider.append_axes(\"right\", size=\"5%\", pad=0.1)\n",
    "plt.colorbar(im0, cax=cax)\n",
    "\n",
    "\n",
    "ax = plt.subplot(1, 2, 2)\n",
    "plt.title(r'$\\beta = 1$, MCMC estimate $\\left<\\log~ \\lambda_f\\right>$')\n",
    "im1 = ax.imshow(torch.mean(x_samples1, 0).view(lin_dim_fom, lin_dim_fom))\n",
    "divider = make_axes_locatable(ax)\n",
    "cax = divider.append_axes(\"right\", size=\"5%\", pad=0.1)\n",
    "plt.colorbar(im1, cax=cax)"
   ]
  },
  {
   "cell_type": "code",
   "execution_count": 27,
   "metadata": {},
   "outputs": [],
   "source": [
    "autocorr50 = ops.stats.autocorrelation(x_samples50)\n",
    "autocorr1 = ops.stats.autocorrelation(x_samples1)"
   ]
  },
  {
   "cell_type": "code",
   "execution_count": 28,
   "metadata": {},
   "outputs": [
    {
     "data": {
      "text/plain": [
       "<matplotlib.legend.Legend at 0x7f6e065b4eb0>"
      ]
     },
     "execution_count": 28,
     "metadata": {},
     "output_type": "execute_result"
    }
   ],
   "source": [
    "fig = plt.figure(figsize=(30, 20))\n",
    "\n",
    "ax = plt.subplot(1, 2, 1)\n",
    "plt.plot(autocorr50[:2000, 234])\n",
    "plt.plot(autocorr50[:2000, 567])\n",
    "plt.plot(autocorr50[:2000, 890])\n",
    "plt.xlabel('MCMC iteration')\n",
    "plt.ylabel('Pixel autocorrelation')\n",
    "plt.title(r'$\\beta = 50$')\n",
    "ax.legend(['pixel 234', 'pixel 567', 'pixel 890'])\n",
    "plt.xlim([0, 100])\n",
    "\n",
    "ax = plt.subplot(1, 2, 2)\n",
    "l1 = plt.plot(autocorr1[:2000, 234])\n",
    "l2 = plt.plot(autocorr1[:2000, 567])\n",
    "l3 = plt.plot(autocorr1[:2000, 890])\n",
    "plt.xlabel('MCMC iteration')\n",
    "plt.ylabel('Pixel autocorrelation')\n",
    "plt.title(r'$\\beta = 1$')\n",
    "ax.legend(['pixel 234', 'pixel 567', 'pixel 890'])"
   ]
  },
  {
   "cell_type": "code",
   "execution_count": null,
   "metadata": {},
   "outputs": [],
   "source": [
    "fig = plt.figure(figsize=(30, 20))\n",
    "\n",
    "ax = plt.subplot(1, 2, 1)\n",
    "plt.plot(x_samples50[:2000, 234])\n",
    "plt.plot(x_samples50[:2000, 567])\n",
    "plt.plot(x_samples50[:2000, 890])\n",
    "plt.xlabel('MCMC iteration')\n",
    "plt.ylabel('Pixel value')\n",
    "plt.title(r'$\\beta = 50$')\n",
    "plt.plot(range(2000), x_true50[0, 234]*torch.ones(2000), 'r')\n",
    "ax.legend(['pixel 234', 'pixel 567', 'pixel 890', 'truth'])\n",
    "plt.plot(range(2000), x_true50[0, 567]*torch.ones(2000), 'r')\n",
    "plt.plot(range(2000), x_true50[0, 890]*torch.ones(2000), 'r')\n",
    "\n",
    "ax = plt.subplot(1, 2, 2)\n",
    "l1 = plt.plot(x_samples05[:2000, 234])\n",
    "l2 = plt.plot(x_samples05[:2000, 567])\n",
    "l3 = plt.plot(x_samples05[:2000, 890])\n",
    "plt.xlabel('MCMC iteration')\n",
    "plt.ylabel('Pixel value')\n",
    "plt.title(r'$\\beta = 1$')\n",
    "plt.plot(range(2000), x_true05[0, 234]*torch.ones(2000), color=l1[0].get_color())\n",
    "ax.legend(['pixel 234', 'pixel 567', 'pixel 890', 'truth'])\n",
    "plt.plot(range(2000), x_true05[0, 567]*torch.ones(2000), color=l2[0].get_color())\n",
    "plt.plot(range(2000), x_true05[0, 890]*torch.ones(2000), color=l3[0].get_color())"
   ]
  },
  {
   "cell_type": "code",
   "execution_count": 34,
   "metadata": {},
   "outputs": [],
   "source": [
    "x_true50 = torch.load('/home/constantin/cluster/python/data/rom_inverse/mcmc/resolution=16/beta=50/l=0.3_0.1/var=2.0/n_samples=2000/n_warmup=500/02-27-21-02-636805290/x_true.pt')\n",
    "x_samples50 = torch.load('/home/constantin/cluster/python/data/rom_inverse/mcmc/resolution=16/beta=50/l=0.3_0.1/var=2.0/n_samples=2000/n_warmup=500/02-27-21-02-636805290/x_samples.pt')\n",
    "x_true05 = torch.load('/home/constantin/cluster/python/data/rom_inverse/mcmc/resolution=16/beta=0.5/l=0.3_0.1/var=2.0/n_samples=2000/n_warmup=500/02-27-21-01-014975057/x_true.pt')\n",
    "x_samples05 = torch.load('/home/constantin/cluster/python/data/rom_inverse/mcmc/resolution=16/beta=0.5/l=0.3_0.1/var=2.0/n_samples=2000/n_warmup=500/02-27-21-01-014975057/x_samples.pt')\n",
    "x_true001 = torch.load('/home/constantin/cluster/python/data/rom_inverse/mcmc/resolution=16/beta=0.01/l=0.3_0.1/var=2.0/n_samples=2000/n_warmup=500/02-27-21-01-813076407/x_true.pt')\n",
    "x_samples001 = torch.load('/home/constantin/cluster/python/data/rom_inverse/mcmc/resolution=16/beta=0.01/l=0.3_0.1/var=2.0/n_samples=2000/n_warmup=500/02-27-21-01-813076407/x_samples.pt')"
   ]
  },
  {
   "cell_type": "code",
   "execution_count": 35,
   "metadata": {},
   "outputs": [
    {
     "data": {
      "text/plain": [
       "<matplotlib.colorbar.Colorbar at 0x7f6e05489c10>"
      ]
     },
     "execution_count": 35,
     "metadata": {},
     "output_type": "execute_result"
    }
   ],
   "source": [
    "lin_dim_fom = 16\n",
    "fig = plt.figure(figsize=(30, 20))\n",
    "ax = plt.subplot(1, 2, 1)\n",
    "plt.title(r'$\\beta = 50$, true $\\log~ \\lambda_f$')\n",
    "im0 = ax.imshow(x_true50[0].view(lin_dim_fom, lin_dim_fom))\n",
    "divider = make_axes_locatable(ax)\n",
    "cax = divider.append_axes(\"right\", size=\"5%\", pad=0.1)\n",
    "plt.colorbar(im0, cax=cax)\n",
    "\n",
    "\n",
    "ax = plt.subplot(1, 2, 2)\n",
    "plt.title(r'$\\beta = 50$, MCMC estimate $\\left<\\log~ \\lambda_f\\right>$')\n",
    "im1 = ax.imshow(torch.mean(x_samples50, 0).view(lin_dim_fom, lin_dim_fom))\n",
    "divider = make_axes_locatable(ax)\n",
    "cax = divider.append_axes(\"right\", size=\"5%\", pad=0.1)\n",
    "plt.colorbar(im1, cax=cax)"
   ]
  },
  {
   "cell_type": "code",
   "execution_count": 36,
   "metadata": {},
   "outputs": [
    {
     "data": {
      "text/plain": [
       "<matplotlib.colorbar.Colorbar at 0x7f6e0535a9d0>"
      ]
     },
     "execution_count": 36,
     "metadata": {},
     "output_type": "execute_result"
    }
   ],
   "source": [
    "lin_dim_fom = 16\n",
    "fig = plt.figure(figsize=(30, 20))\n",
    "ax = plt.subplot(1, 2, 1)\n",
    "plt.title(r'$\\beta = 0.5$, true $\\log~ \\lambda_f$')\n",
    "im0 = ax.imshow(x_true05[0].view(lin_dim_fom, lin_dim_fom))\n",
    "divider = make_axes_locatable(ax)\n",
    "cax = divider.append_axes(\"right\", size=\"5%\", pad=0.1)\n",
    "plt.colorbar(im0, cax=cax)\n",
    "\n",
    "\n",
    "ax = plt.subplot(1, 2, 2)\n",
    "plt.title(r'$\\beta = 0.5$, MCMC estimate $\\left<\\log~ \\lambda_f\\right>$')\n",
    "im1 = ax.imshow(torch.mean(x_samples05, 0).view(lin_dim_fom, lin_dim_fom))\n",
    "divider = make_axes_locatable(ax)\n",
    "cax = divider.append_axes(\"right\", size=\"5%\", pad=0.1)\n",
    "plt.colorbar(im1, cax=cax)"
   ]
  },
  {
   "cell_type": "code",
   "execution_count": 37,
   "metadata": {},
   "outputs": [
    {
     "data": {
      "text/plain": [
       "<matplotlib.colorbar.Colorbar at 0x7f6e05222220>"
      ]
     },
     "execution_count": 37,
     "metadata": {},
     "output_type": "execute_result"
    }
   ],
   "source": [
    "lin_dim_fom = 16\n",
    "fig = plt.figure(figsize=(30, 20))\n",
    "ax = plt.subplot(1, 2, 1)\n",
    "plt.title(r'$\\beta = 0.01$, true $\\log~ \\lambda_f$')\n",
    "im0 = ax.imshow(x_true001[0].view(lin_dim_fom, lin_dim_fom))\n",
    "divider = make_axes_locatable(ax)\n",
    "cax = divider.append_axes(\"right\", size=\"5%\", pad=0.1)\n",
    "plt.colorbar(im0, cax=cax)\n",
    "\n",
    "\n",
    "ax = plt.subplot(1, 2, 2)\n",
    "plt.title(r'$\\beta = 0.01$, MCMC estimate $\\left<\\log~ \\lambda_f\\right>$')\n",
    "im1 = ax.imshow(torch.mean(x_samples001, 0).view(lin_dim_fom, lin_dim_fom))\n",
    "divider = make_axes_locatable(ax)\n",
    "cax = divider.append_axes(\"right\", size=\"5%\", pad=0.1)\n",
    "plt.colorbar(im1, cax=cax)"
   ]
  },
  {
   "cell_type": "code",
   "execution_count": 30,
   "metadata": {},
   "outputs": [],
   "source": [
    "autocorr50 = ops.stats.autocorrelation(x_samples50)\n",
    "autocorr05 = ops.stats.autocorrelation(x_samples05)"
   ]
  },
  {
   "cell_type": "code",
   "execution_count": 33,
   "metadata": {},
   "outputs": [
    {
     "data": {
      "text/plain": [
       "(0, 100)"
      ]
     },
     "execution_count": 33,
     "metadata": {},
     "output_type": "execute_result"
    }
   ],
   "source": [
    "fig = plt.figure(figsize=(30, 20))\n",
    "\n",
    "ax = plt.subplot(1, 2, 1)\n",
    "plt.plot(autocorr50[:2000, 70])\n",
    "plt.plot(autocorr50[:2000, 140])\n",
    "plt.plot(autocorr50[:2000, 210])\n",
    "plt.xlabel('MCMC iteration')\n",
    "plt.ylabel('Pixel autocorrelation')\n",
    "plt.title(r'$\\beta = 50$')\n",
    "ax.legend(['pixel 70', 'pixel 140', 'pixel 210'])\n",
    "plt.xlim([0, 100])\n",
    "\n",
    "ax = plt.subplot(1, 2, 2)\n",
    "l1 = plt.plot(autocorr05[:2000, 70])\n",
    "l2 = plt.plot(autocorr05[:2000, 140])\n",
    "l3 = plt.plot(autocorr05[:2000, 210])\n",
    "plt.xlabel('MCMC iteration')\n",
    "plt.ylabel('Pixel autocorrelation')\n",
    "plt.title(r'$\\beta = 0.5$')\n",
    "ax.legend(['pixel 70', 'pixel 140', 'pixel 210'])\n",
    "plt.xlim([0, 100])"
   ]
  },
  {
   "cell_type": "code",
   "execution_count": null,
   "metadata": {},
   "outputs": [],
   "source": [
    "fig = plt.figure(figsize=(30, 20))\n",
    "\n",
    "ax = plt.subplot(1, 2, 1)\n",
    "plt.plot(x_samples50[:2000, 70])\n",
    "plt.plot(x_samples50[:2000, 140])\n",
    "plt.plot(x_samples50[:2000, 210])\n",
    "plt.xlabel('MCMC iteration')\n",
    "plt.ylabel('Pixel value')\n",
    "plt.title(r'$\\beta = 50$')\n",
    "plt.plot(range(2000), x_true50[0, 70]*torch.ones(2000), 'r')\n",
    "ax.legend(['pixel 70', 'pixel 140', 'pixel 210', 'truth'])\n",
    "plt.plot(range(2000), x_true50[0, 140]*torch.ones(2000), 'r')\n",
    "plt.plot(range(2000), x_true50[0, 210]*torch.ones(2000), 'r')\n",
    "\n",
    "ax = plt.subplot(1, 2, 2)\n",
    "l1 = plt.plot(x_samples05[:2000, 70])\n",
    "l2 = plt.plot(x_samples05[:2000, 140])\n",
    "l3 = plt.plot(x_samples05[:2000, 210])\n",
    "plt.xlabel('MCMC iteration')\n",
    "plt.ylabel('Pixel value')\n",
    "plt.title(r'$\\beta = 0.5$')\n",
    "plt.plot(range(2000), x_true05[0, 70]*torch.ones(2000), color=l1[0].get_color())\n",
    "ax.legend(['pixel 70', 'pixel 140', 'pixel 210', 'truth'])\n",
    "plt.plot(range(2000), x_true05[0, 140]*torch.ones(2000), color=l2[0].get_color())\n",
    "plt.plot(range(2000), x_true05[0, 210]*torch.ones(2000), color=l3[0].get_color())"
   ]
  },
  {
   "cell_type": "code",
   "execution_count": null,
   "metadata": {},
   "outputs": [],
   "source": [
    "autocorr_50 = ops.stats.autocorrelation(x_samples50)"
   ]
  },
  {
   "cell_type": "code",
   "execution_count": null,
   "metadata": {},
   "outputs": [],
   "source": [
    "plt.plot(autocorr_50[:2000, 70])"
   ]
  },
  {
   "cell_type": "code",
   "execution_count": null,
   "metadata": {},
   "outputs": [],
   "source": []
  }
 ],
 "metadata": {
  "kernelspec": {
   "display_name": "Python 3",
   "language": "python",
   "name": "python3"
  },
  "language_info": {
   "codemirror_mode": {
    "name": "ipython",
    "version": 3
   },
   "file_extension": ".py",
   "mimetype": "text/x-python",
   "name": "python",
   "nbconvert_exporter": "python",
   "pygments_lexer": "ipython3",
   "version": "3.8.1"
  }
 },
 "nbformat": 4,
 "nbformat_minor": 4
}
