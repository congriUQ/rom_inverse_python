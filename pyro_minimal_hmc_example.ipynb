{
 "cells": [
  {
   "cell_type": "code",
   "execution_count": 1,
   "metadata": {},
   "outputs": [],
   "source": [
    "import torch\n",
    "import pyro\n",
    "import pyro.distributions as dist\n",
    "from pyro.infer import MCMC, HMC, EmpiricalMarginal"
   ]
  },
  {
   "cell_type": "code",
   "execution_count": 2,
   "metadata": {},
   "outputs": [
    {
     "name": "stdout",
     "output_type": "stream",
     "text": [
      "true_mean ==  tensor([-0.5106, -0.6584,  1.5336])\n",
      "true_sigma ==  tensor([0.3195, 4.0546, 1.2665])\n"
     ]
    }
   ],
   "source": [
    "dim = 3\n",
    "true_mean = torch.randn(dim)\n",
    "print('true_mean == ', true_mean)\n",
    "true_sigma = torch.exp(torch.randn(dim))\n",
    "print('true_sigma == ', true_sigma)"
   ]
  },
  {
   "cell_type": "code",
   "execution_count": 3,
   "metadata": {},
   "outputs": [],
   "source": [
    "def model():\n",
    "    return pyro.sample('consi', pyro.distributions.Normal(5*torch.ones(3), torch.ones(3)))"
   ]
  },
  {
   "cell_type": "code",
   "execution_count": 4,
   "metadata": {},
   "outputs": [],
   "source": [
    "hmc_kernel = HMC(model, step_size=.1, num_steps=4)"
   ]
  },
  {
   "cell_type": "code",
   "execution_count": 5,
   "metadata": {},
   "outputs": [],
   "source": [
    "mcmc = MCMC(hmc_kernel, num_samples=1000, warmup_steps=500)"
   ]
  },
  {
   "cell_type": "code",
   "execution_count": 6,
   "metadata": {},
   "outputs": [
    {
     "name": "stderr",
     "output_type": "stream",
     "text": [
      "Sample: 100%|██████████| 1500/1500 [00:01, 1100.57it/s, step size=9.22e-01, acc. prob=0.907]\n"
     ]
    }
   ],
   "source": [
    "mcmc.run()"
   ]
  },
  {
   "cell_type": "code",
   "execution_count": 7,
   "metadata": {},
   "outputs": [
    {
     "name": "stdout",
     "output_type": "stream",
     "text": [
      "\n",
      "                mean       std    median      5.0%     95.0%     n_eff     r_hat\n",
      "  consi[0]      4.90      1.04      4.88      3.30      6.67    254.72      1.00\n",
      "  consi[1]      5.05      1.00      5.00      3.32      6.65    181.37      1.00\n",
      "  consi[2]      4.98      0.95      4.98      3.41      6.43    260.56      1.00\n",
      "\n",
      "Number of divergences: 0\n"
     ]
    }
   ],
   "source": [
    "mcmc.summary()"
   ]
  }
 ],
 "metadata": {
  "kernelspec": {
   "display_name": "Python 3",
   "language": "python",
   "name": "python3"
  },
  "language_info": {
   "codemirror_mode": {
    "name": "ipython",
    "version": 3
   },
   "file_extension": ".py",
   "mimetype": "text/x-python",
   "name": "python",
   "nbconvert_exporter": "python",
   "pygments_lexer": "ipython3",
   "version": "3.8.1"
  }
 },
 "nbformat": 4,
 "nbformat_minor": 4
}
