{
 "cells": [
  {
   "cell_type": "code",
   "execution_count": 1,
   "metadata": {},
   "outputs": [],
   "source": [
    "import rom_inverse as ri\n",
    "import torch\n",
    "import matplotlib.pyplot as plt\n",
    "# import sklearn.gaussian_process.kernels as kernels\n",
    "from poisson_fem import PoissonFEM\n",
    "import ROM\n",
    "import numpy as np\n",
    "import scipy as sp\n",
    "import petsc4py\n",
    "import sys\n",
    "petsc4py.init(sys.argv)\n",
    "from petsc4py import PETSc\n",
    "import pyro\n",
    "import pyro.distributions as dist\n",
    "from pyro.infer import MCMC, NUTS\n",
    "import os\n",
    "import pyro.contrib.gp as gp\n",
    "smoke_test = ('CI' in os.environ)  # ignore; used to check code integrity in the Pyro repo\n",
    "assert pyro.__version__.startswith('1.2.1')\n",
    "pyro.enable_validation(True)       # can help with debugging\n",
    "import time\n",
    "import Data\n",
    "from CG_Surrogate import cg_surrogate"
   ]
  },
  {
   "cell_type": "code",
   "execution_count": null,
   "metadata": {},
   "outputs": [],
   "source": [
    "lin_dim_fom = 32                      # Linear number of rom elements\n",
    "\n",
    "kernel = gp.kernels.RBF(input_dim=2, variance=torch.tensor(2.), lengthscale=torch.tensor([.3, .1]))\n",
    "permeability_random_field = ri.DiscretizedRandomField(kernel=kernel, discretization_vector=\n",
    "                            (torch.linspace(1/(2*lin_dim_fom), (lin_dim_fom - .5)/lin_dim_fom, lin_dim_fom),\n",
    "                             torch.linspace(1/(2*lin_dim_fom), (lin_dim_fom - .5)/lin_dim_fom, lin_dim_fom)),\n",
    "                                                     nugget=1e-3)"
   ]
  },
  {
   "cell_type": "code",
   "execution_count": null,
   "metadata": {
    "scrolled": false
   },
   "outputs": [],
   "source": [
    "permeability_random_field.plot_realizations()"
   ]
  },
  {
   "cell_type": "code",
   "execution_count": null,
   "metadata": {
    "scrolled": true
   },
   "outputs": [],
   "source": [
    "a = torch.tensor([1, 1, 0])               # Boundary condition function coefficients\n",
    "\n",
    "\n",
    "# Define mesh and boundary conditions\n",
    "mesh = PoissonFEM.RectangularMesh(torch.ones(lin_dim_fom)/lin_dim_fom)\n",
    "# mesh.plot()\n",
    "\n",
    "def origin(x):\n",
    "    return torch.abs(x[0]) < torch.finfo(torch.float32).eps and torch.abs(x[1]) < torch.finfo(torch.float32).eps\n",
    "\n",
    "def ess_boundary_fun(x):\n",
    "    return 0.0\n",
    "mesh.set_essential_boundary(origin, ess_boundary_fun)\n",
    "\n",
    "def domain_boundary(x):\n",
    "    # unit square\n",
    "    return torch.abs(x[0]) < torch.finfo(torch.float32).eps or torch.abs(x[1]) < torch.finfo(torch.float32).eps or \\\n",
    "            torch.abs(x[0]) > 1.0 - torch.finfo(torch.float32).eps or torch.abs(x[1]) > 1.0 - torch.finfo(torch.float32).eps\n",
    "mesh.set_natural_boundary(domain_boundary)\n",
    "\n",
    "def flux(x):\n",
    "    q = np.array([a[0] + a[2]*x[1], a[1] + a[2]*x[0]])\n",
    "    return q"
   ]
  },
  {
   "cell_type": "code",
   "execution_count": null,
   "metadata": {
    "scrolled": true
   },
   "outputs": [],
   "source": [
    "#Specify right hand side and stiffness matrix\n",
    "rhs = PoissonFEM.RightHandSide(mesh)\n",
    "rhs.set_natural_rhs(mesh, flux)\n",
    "K = PoissonFEM.StiffnessMatrix(mesh)\n",
    "rhs.set_rhs_stencil(mesh, K)"
   ]
  },
  {
   "cell_type": "code",
   "execution_count": null,
   "metadata": {},
   "outputs": [],
   "source": [
    "# define fom\n",
    "fom = ROM.ROM(mesh, K, rhs, lin_dim_fom**2)\n",
    "# Change for non unit square domains!!\n",
    "xx, yy = torch.meshgrid((torch.linspace(0, 1, lin_dim_fom), torch.linspace(0, 1, lin_dim_fom)))\n",
    "X = torch.cat((xx.flatten().unsqueeze(1), yy.flatten().unsqueeze(1)), 1)\n",
    "fom.mesh.get_interpolation_matrix(X)"
   ]
  },
  {
   "cell_type": "code",
   "execution_count": null,
   "metadata": {},
   "outputs": [],
   "source": [
    "fom_autograd = fom.get_autograd_fun()"
   ]
  },
  {
   "cell_type": "code",
   "execution_count": null,
   "metadata": {
    "scrolled": true
   },
   "outputs": [],
   "source": [
    "lmbda = permeability_random_field.sample_permeability(n_samples=3)"
   ]
  },
  {
   "cell_type": "code",
   "execution_count": null,
   "metadata": {
    "scrolled": true
   },
   "outputs": [],
   "source": [
    "img = plt.imshow(fom_autograd(lmbda[0, :]).view(lin_dim_fom, lin_dim_fom))\n",
    "plt.colorbar(img)"
   ]
  },
  {
   "cell_type": "code",
   "execution_count": null,
   "metadata": {},
   "outputs": [],
   "source": [
    "lmbda = torch.rand(lin_dim_fom**2, requires_grad=True)\n",
    "x = fom_autograd(lmbda)\n",
    "loss = torch.norm(x)\n",
    "loss.backward()"
   ]
  },
  {
   "cell_type": "code",
   "execution_count": null,
   "metadata": {},
   "outputs": [],
   "source": [
    "def lossfun(x):\n",
    "    return torch.norm(fom_autograd(x)) "
   ]
  },
  {
   "cell_type": "code",
   "execution_count": null,
   "metadata": {
    "scrolled": true
   },
   "outputs": [],
   "source": [
    "# from torch.autograd import gradcheck\n",
    "# lmbda = torch.randn(lin_dim_fom**2, dtype=torch.double, requires_grad=True)\n",
    "# test = gradcheck(lossfun, lmbda, eps=1e-3, atol=1e-4)\n",
    "# print(test)"
   ]
  },
  {
   "cell_type": "code",
   "execution_count": null,
   "metadata": {},
   "outputs": [],
   "source": [
    "# define pyro model\n",
    "beta = 1.0  # inverse temperature of observations\n",
    "def uncertainty_propagation():\n",
    "    lambda_f = permeability_random_field.sample()\n",
    "    uf = fom_autograd(lambda_f)\n",
    "    uf_observed = pyro.sample('uf_observed', dist.Normal(uf, torch.ones_like(uf)/beta))\n",
    "    return uf_observed   "
   ]
  },
  {
   "cell_type": "code",
   "execution_count": null,
   "metadata": {},
   "outputs": [],
   "source": [
    "# nuts_kernel = NUTS(uncertainty_propagation)\n",
    "# mcmc = MCMC(nuts_kernel, num_samples=100, warmup_steps=100, num_chains=1)\n",
    "# mcmc.run()\n",
    "# mcmc.summary()"
   ]
  },
  {
   "cell_type": "code",
   "execution_count": null,
   "metadata": {},
   "outputs": [],
   "source": [
    "beta = 20\n",
    "scale_tril = torch.cholesky(permeability_random_field.get_covariance_matrix())\n",
    "mu_zero = torch.zeros(permeability_random_field.X.shape[0])\n",
    "def joint_posterior():\n",
    "    x = pyro.sample('x', dist.MultivariateNormal(mu_zero, scale_tril=scale_tril))\n",
    "    lambdaf = torch.exp(x)\n",
    "    uf = fom_autograd(lambdaf)\n",
    "    uf_observed = pyro.sample('uf_observed', dist.Normal(uf, torch.ones_like(uf)/beta))\n",
    "    return uf_observed"
   ]
  },
  {
   "cell_type": "code",
   "execution_count": null,
   "metadata": {
    "scrolled": true
   },
   "outputs": [],
   "source": [
    "# nuts_kernel = NUTS(joint_posterior)\n",
    "# mcmc = MCMC(nuts_kernel, num_samples=100, warmup_steps=100, num_chains=1)\n",
    "# mcmc.run()\n",
    "# mcmc.summary()"
   ]
  },
  {
   "cell_type": "code",
   "execution_count": null,
   "metadata": {
    "scrolled": true
   },
   "outputs": [],
   "source": [
    "print('x == ', x := permeability_random_field.sample_log_permeability())\n",
    "print('uf_observed == ', uf_observed := fom_autograd(torch.exp(x)))"
   ]
  },
  {
   "cell_type": "code",
   "execution_count": null,
   "metadata": {},
   "outputs": [],
   "source": [
    "def conditioned_posterior(uf_observed):\n",
    "    return pyro.condition(joint_posterior, data={\"uf_observed\": uf_observed})"
   ]
  },
  {
   "cell_type": "code",
   "execution_count": null,
   "metadata": {
    "scrolled": true
   },
   "outputs": [],
   "source": [
    "nuts_kernel = NUTS(conditioned_posterior(uf_observed))\n",
    "mcmc = MCMC(nuts_kernel, num_samples=200, warmup_steps=100, num_chains=1)\n",
    "mcmc.run()\n",
    "mcmc.summary()"
   ]
  },
  {
   "cell_type": "code",
   "execution_count": null,
   "metadata": {
    "scrolled": true
   },
   "outputs": [],
   "source": [
    "plt.plot(x[0])\n",
    "plt.plot(torch.mean(mcmc.get_samples()['x'], 0))"
   ]
  },
  {
   "cell_type": "code",
   "execution_count": null,
   "metadata": {},
   "outputs": [],
   "source": [
    "fig = plt.figure(figsize=(15, 7))\n",
    "ax = plt.subplot(1, 2, 1)\n",
    "im0 = plt.imshow(x[0].view(lin_dim_fom, lin_dim_fom))\n",
    "plt.colorbar(im0)\n",
    "ax = plt.subplot(1, 2, 2)\n",
    "im1 = plt.imshow(torch.mean(mcmc.get_samples()['x'], 0).view(lin_dim_fom, lin_dim_fom))\n",
    "plt.colorbar(im1)"
   ]
  },
  {
   "cell_type": "code",
   "execution_count": null,
   "metadata": {},
   "outputs": [],
   "source": [
    "lin_dim_fom = [32]                      # Linear number of rom elements\n",
    "\n",
    "kernel = gp.kernels.RBF(input_dim=2, variance=torch.tensor(2.), lengthscale=torch.tensor([.3, .1]))\n",
    "permeability_random_field = ri.DiscretizedRandomField(lin_dim_fom, kernel=kernel, nugget=1e-3)"
   ]
  },
  {
   "cell_type": "code",
   "execution_count": null,
   "metadata": {},
   "outputs": [],
   "source": [
    "dd = Data.DarcyData(supervised_samples=set(range(1024)))\n",
    "dd.set_mesh()"
   ]
  },
  {
   "cell_type": "code",
   "execution_count": null,
   "metadata": {},
   "outputs": [],
   "source": [
    "dd.set_rhs_and_stiffness()"
   ]
  },
  {
   "cell_type": "code",
   "execution_count": null,
   "metadata": {},
   "outputs": [],
   "source": [
    "dd.set_solver()"
   ]
  },
  {
   "cell_type": "code",
   "execution_count": null,
   "metadata": {},
   "outputs": [],
   "source": [
    "perm_smps = dd.permeability_random_field.sample_permeability(n_samples=3)"
   ]
  },
  {
   "cell_type": "code",
   "execution_count": null,
   "metadata": {},
   "outputs": [],
   "source": [
    "fig = plt.figure(figsize=(15, 7))\n",
    "plt.imshow(perm_smps[0].view(128, 128))"
   ]
  },
  {
   "cell_type": "code",
   "execution_count": null,
   "metadata": {},
   "outputs": [],
   "source": [
    "u = dd.solver(perm_smps[0])"
   ]
  },
  {
   "cell_type": "code",
   "execution_count": null,
   "metadata": {},
   "outputs": [],
   "source": [
    "from mpl_toolkits.mplot3d import Axes3D\n",
    "from matplotlib import cm\n",
    "fig = plt.figure(figsize=(15, 7))\n",
    "ax = fig.gca(projection='3d')\n",
    "# plt.imshow(u.view(129, 129))\n",
    "xx, yy = torch.meshgrid(torch.linspace(0, 1, 129), torch.linspace(0, 1, 129))\n",
    "surf = ax.plot_surface(xx.detach().numpy(), yy.detach().numpy(), u.view(129, 129).detach().numpy(), cmap=cm.inferno, linewidth=0, antialiased=False)"
   ]
  },
  {
   "cell_type": "code",
   "execution_count": 2,
   "metadata": {},
   "outputs": [],
   "source": [
    "Phi = cg_surrogate.DesignMatrix()"
   ]
  },
  {
   "cell_type": "code",
   "execution_count": 3,
   "metadata": {},
   "outputs": [
    {
     "data": {
      "text/plain": [
       "<CG_Surrogate.cg_surrogate.DesignMatrix at 0x7fdb3c7474c0>"
      ]
     },
     "execution_count": 3,
     "metadata": {},
     "output_type": "execute_result"
    }
   ],
   "source": [
    "Phi"
   ]
  },
  {
   "cell_type": "code",
   "execution_count": 4,
   "metadata": {},
   "outputs": [],
   "source": [
    "fine_mesh = PoissonFEM.RectangularMesh(torch.ones(64)/64)\n",
    "coarse_mesh = PoissonFEM.RectangularMesh(torch.ones(4)/4)"
   ]
  },
  {
   "cell_type": "code",
   "execution_count": 5,
   "metadata": {},
   "outputs": [
    {
     "data": {
      "image/png": "[encoded data removed]",
      "text/plain": [
       "<Figure size 432x288 with 1 Axes>"
      ]
     },
     "metadata": {
      "needs_background": "light"
     },
     "output_type": "display_data"
    }
   ],
   "source": [
    "Phi.get_masks(fine_mesh, coarse_mesh)"
   ]
  },
  {
   "cell_type": "code",
   "execution_count": 8,
   "metadata": {},
   "outputs": [
    {
     "data": {
      "text/plain": [
       "<matplotlib.image.AxesImage at 0x7fdabdf123d0>"
      ]
     },
     "execution_count": 8,
     "metadata": {},
     "output_type": "execute_result"
    },
    {
     "data": {
      "image/png": "[encoded data removed]",
      "text/plain": [
       "<Figure size 432x288 with 1 Axes>"
      ]
     },
     "metadata": {
      "needs_background": "light"
     },
     "output_type": "display_data"
    }
   ],
   "source": [
    "plt.imshow(Phi.mask[2].view(fine_mesh.n_el_x, fine_mesh.n_el_y))"
   ]
  },
  {
   "cell_type": "code",
   "execution_count": null,
   "metadata": {},
   "outputs": [],
   "source": []
  }
 ],
 "metadata": {
  "kernelspec": {
   "display_name": "Python 3",
   "language": "python",
   "name": "python3"
  },
  "language_info": {
   "codemirror_mode": {
    "name": "ipython",
    "version": 3
   },
   "file_extension": ".py",
   "mimetype": "text/x-python",
   "name": "python",
   "nbconvert_exporter": "python",
   "pygments_lexer": "ipython3",
   "version": "3.8.1"
  }
 },
 "nbformat": 4,
 "nbformat_minor": 4
}
