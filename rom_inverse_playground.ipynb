{
 "cells": [
  {
   "cell_type": "code",
   "execution_count": 1,
   "metadata": {},
   "outputs": [],
   "source": [
    "# %matplotlib qt\n",
    "import rom_inverse as ri\n",
    "import torch\n",
    "import matplotlib.pyplot as plt\n",
    "from mpl_toolkits.axes_grid1 import make_axes_locatable\n",
    "# import sklearn.gaussian_process.kernels as kernels\n",
    "from poisson_fem import PoissonFEM\n",
    "import ROM\n",
    "import numpy as np\n",
    "import scipy as sp\n",
    "import petsc4py\n",
    "import sys\n",
    "petsc4py.init(sys.argv)\n",
    "from petsc4py import PETSc\n",
    "import pyro\n",
    "import pyro.distributions as dist\n",
    "from pyro.infer import MCMC, NUTS, HMC\n",
    "import os\n",
    "import pyro.contrib.gp as gp\n",
    "smoke_test = ('CI' in os.environ)  # ignore; used to check code integrity in the Pyro repo\n",
    "assert pyro.__version__.startswith('1.2.1')\n",
    "pyro.enable_validation(True)       # can help with debugging\n",
    "import time\n",
    "import Data\n",
    "from CG_Surrogate import cg_surrogate"
   ]
  },
  {
   "cell_type": "code",
   "execution_count": 2,
   "metadata": {},
   "outputs": [],
   "source": [
    "lin_dim_rom = 8                      # Linear number of rom elements\n",
    "\n",
    "kernel = gp.kernels.RBF(input_dim=2, variance=torch.tensor(2.), lengthscale=torch.tensor([.3, .1]))\n",
    "permeability_random_field = ri.DiscretizedRandomField(kernel=kernel, resolution=[lin_dim_rom],\n",
    "                                                     nugget=1e-3)"
   ]
  },
  {
   "cell_type": "code",
   "execution_count": 3,
   "metadata": {
    "scrolled": true
   },
   "outputs": [],
   "source": [
    "a = torch.tensor([1, 2, 3])               # Boundary condition function coefficients\n",
    "\n",
    "\n",
    "# Define mesh and boundary conditions\n",
    "mesh = PoissonFEM.RectangularMesh(torch.ones(lin_dim_rom)/lin_dim_rom)\n",
    "# mesh.plot()\n",
    "\n",
    "def origin(x):\n",
    "    return torch.abs(x[0]) < torch.finfo(torch.float32).eps and torch.abs(x[1]) < torch.finfo(torch.float32).eps\n",
    "\n",
    "def ess_boundary_fun(x):\n",
    "    return 0.0\n",
    "mesh.set_essential_boundary(origin, ess_boundary_fun)\n",
    "\n",
    "def domain_boundary(x):\n",
    "    # unit square\n",
    "    return torch.abs(x[0]) < torch.finfo(torch.float32).eps or torch.abs(x[1]) < torch.finfo(torch.float32).eps or \\\n",
    "            torch.abs(x[0]) > 1.0 - torch.finfo(torch.float32).eps or torch.abs(x[1]) > 1.0 - torch.finfo(torch.float32).eps\n",
    "mesh.set_natural_boundary(domain_boundary)\n",
    "\n",
    "def flux(x):\n",
    "    q = np.array([a[0] + a[2]*x[1], a[1] + a[2]*x[0]])\n",
    "    return q"
   ]
  },
  {
   "cell_type": "code",
   "execution_count": 4,
   "metadata": {
    "scrolled": true
   },
   "outputs": [],
   "source": [
    "#Specify right hand side and stiffness matrix\n",
    "rhs = PoissonFEM.RightHandSide(mesh)\n",
    "rhs.set_natural_rhs(mesh, flux)\n",
    "K = PoissonFEM.StiffnessMatrix(mesh)\n",
    "rhs.set_rhs_stencil(mesh, K)"
   ]
  },
  {
   "cell_type": "code",
   "execution_count": 5,
   "metadata": {},
   "outputs": [],
   "source": [
    "# define fom\n",
    "fine_interp_fac = 4\n",
    "lin_dim_fom =fine_interp_fac*lin_dim_rom\n",
    "fom = ROM.ROM(mesh, K, rhs, (lin_dim_fom + 1)**2)\n",
    "# Change for non unit square domains!!\n",
    "xx, yy = torch.meshgrid((torch.linspace(0, 1, lin_dim_fom + 1), torch.linspace(0, 1, lin_dim_fom + 1)))\n",
    "X = torch.cat((xx.flatten().unsqueeze(1), yy.flatten().unsqueeze(1)), 1)\n",
    "fom.mesh.get_interpolation_matrix(X)"
   ]
  },
  {
   "cell_type": "code",
   "execution_count": 6,
   "metadata": {},
   "outputs": [],
   "source": [
    "fom_autograd = fom.get_autograd_fun()"
   ]
  },
  {
   "cell_type": "code",
   "execution_count": 7,
   "metadata": {},
   "outputs": [],
   "source": [
    "beta = 50\n",
    "permeability_random_field.set_covariance_matrix()\n",
    "scale_tril = permeability_random_field.log_permeability_scale_tril.detach()\n",
    "mu_zero = torch.zeros(permeability_random_field.X.shape[0])\n",
    "def joint_posterior():\n",
    "    x = pyro.sample('x', dist.MultivariateNormal(mu_zero, scale_tril=scale_tril))\n",
    "    lambdaf = torch.exp(x)\n",
    "    uf = fom_autograd(lambdaf)\n",
    "    uf_observed = pyro.sample('uf_observed', dist.Normal(uf, torch.ones_like(uf)/beta))\n",
    "    return uf_observed"
   ]
  },
  {
   "cell_type": "code",
   "execution_count": 8,
   "metadata": {
    "scrolled": true
   },
   "outputs": [
    {
     "name": "stdout",
     "output_type": "stream",
     "text": [
      "x ==  tensor([[ 0.0460, -0.4380,  0.9159,  0.7762, -2.1330,  1.6259,  2.7100,  2.7405,\n",
      "         -0.3042, -0.7464,  0.3368,  1.0023, -1.2285,  0.6773,  1.9029,  2.9378,\n",
      "         -0.4141, -0.5555,  0.1875,  0.9636, -0.4168, -0.1893,  1.2515,  2.3369,\n",
      "         -0.3242,  0.1325,  0.3427,  0.6513,  0.1097, -0.6874,  1.0777,  1.2955,\n",
      "         -0.0512,  1.0832,  0.2049, -0.1723,  0.2293, -0.4215,  0.7798, -0.0431,\n",
      "          0.3222,  1.8087, -0.4027, -0.9788, -0.0210,  0.1962,  0.1846, -1.0234,\n",
      "          1.0467,  2.1806, -0.9520, -1.0386, -0.0089,  0.6166, -0.5578, -1.2610,\n",
      "          1.9519,  2.0484, -1.1534, -0.2497,  0.4904,  0.7060, -0.6637, -0.5364]])\n",
      "uf_observed ==  tensor([0.0000, 0.0489, 0.0978,  ..., 6.8144, 6.9956, 7.1769])\n"
     ]
    }
   ],
   "source": [
    "print('x == ', x := permeability_random_field.sample_log_permeability())\n",
    "print('uf_observed == ', uf_observed := fom_autograd(torch.exp(x)))"
   ]
  },
  {
   "cell_type": "code",
   "execution_count": 9,
   "metadata": {},
   "outputs": [],
   "source": [
    "def conditioned_posterior(uf_observed):\n",
    "    return pyro.condition(joint_posterior, data={\"uf_observed\": uf_observed})"
   ]
  },
  {
   "cell_type": "code",
   "execution_count": 10,
   "metadata": {
    "scrolled": true
   },
   "outputs": [
    {
     "name": "stderr",
     "output_type": "stream",
     "text": [
      "Sample: 100%|██████████| 50/50 [00:00, 171.59it/s, step size=6.78e-02, acc. prob=0.000]\n"
     ]
    },
    {
     "name": "stdout",
     "output_type": "stream",
     "text": [
      "\n",
      "                mean       std    median      5.0%     95.0%     n_eff     r_hat\n",
      "      x[0]     -0.33      0.00     -0.33     -0.33     -0.33       nan       nan\n",
      "      x[1]      0.33      0.00      0.33      0.33      0.33       nan       nan\n",
      "      x[2]     -0.08      0.00     -0.08     -0.08     -0.08       nan       nan\n",
      "      x[3]      0.11      0.00      0.11      0.11      0.11       nan       nan\n",
      "      x[4]     -1.46      0.00     -1.46     -1.46     -1.46       nan       nan\n",
      "      x[5]      1.64      0.00      1.64      1.64      1.64       nan       nan\n",
      "      x[6]      0.23      0.00      0.23      0.23      0.23       nan       nan\n",
      "      x[7]      0.24      0.00      0.24      0.24      0.24       nan       nan\n",
      "      x[8]     -0.90      0.00     -0.90     -0.90     -0.90       nan       nan\n",
      "      x[9]      0.82      0.00      0.82      0.82      0.82       nan       nan\n",
      "     x[10]     -0.19      0.00     -0.19     -0.19     -0.19       nan       nan\n",
      "     x[11]      0.41      0.00      0.41      0.41      0.41       nan       nan\n",
      "     x[12]     -0.45      0.00     -0.45     -0.45     -0.45       nan       nan\n",
      "     x[13]     -0.72      0.00     -0.72     -0.72     -0.72       nan       nan\n",
      "     x[14]      1.13      0.00      1.13      1.13      1.13       nan       nan\n",
      "     x[15]      2.01      0.00      2.01      2.01      2.01       nan       nan\n",
      "     x[16]      1.50      0.00      1.50      1.50      1.50       nan       nan\n",
      "     x[17]     -1.82      0.00     -1.82     -1.82     -1.82       nan       nan\n",
      "     x[18]      0.45      0.00      0.45      0.45      0.45       nan       nan\n",
      "     x[19]     -1.42      0.00     -1.42     -1.42     -1.42       nan       nan\n",
      "     x[20]      0.85      0.00      0.85      0.85      0.85       nan       nan\n",
      "     x[21]      0.06      0.00      0.06      0.06      0.06       nan       nan\n",
      "     x[22]     -0.89      0.00     -0.89     -0.89     -0.89       nan       nan\n",
      "     x[23]      2.07      0.00      2.07      2.07      2.07       nan       nan\n",
      "     x[24]      0.33      0.00      0.33      0.33      0.33       nan       nan\n",
      "     x[25]     -0.97      0.00     -0.97     -0.97     -0.97       nan       nan\n",
      "     x[26]      0.65      0.00      0.65      0.65      0.65       nan       nan\n",
      "     x[27]     -1.59      0.00     -1.59     -1.59     -1.59       nan       nan\n",
      "     x[28]     -0.18      0.00     -0.18     -0.18     -0.18       nan       nan\n",
      "     x[29]     -0.07      0.00     -0.07     -0.07     -0.07       nan       nan\n",
      "     x[30]      2.19      0.00      2.19      2.19      2.19       nan       nan\n",
      "     x[31]      0.20      0.00      0.20      0.20      0.20       nan       nan\n",
      "     x[32]      1.61      0.00      1.61      1.61      1.61       nan       nan\n",
      "     x[33]      0.42      0.00      0.42      0.42      0.42       nan       nan\n",
      "     x[34]     -0.24      0.00     -0.24     -0.24     -0.24       nan       nan\n",
      "     x[35]     -1.32      0.00     -1.32     -1.32     -1.32       nan       nan\n",
      "     x[36]      1.49      0.00      1.49      1.49      1.49       nan       nan\n",
      "     x[37]     -1.59      0.00     -1.59     -1.59     -1.59       nan       nan\n",
      "     x[38]      1.01      0.00      1.01      1.01      1.01       nan       nan\n",
      "     x[39]     -0.59      0.00     -0.59     -0.59     -0.59       nan       nan\n",
      "     x[40]      0.06      0.00      0.06      0.06      0.06       nan       nan\n",
      "     x[41]      0.96      0.00      0.96      0.96      0.96       nan       nan\n",
      "     x[42]     -0.25      0.00     -0.25     -0.25     -0.25       nan       nan\n",
      "     x[43]      0.91      0.00      0.91      0.91      0.91       nan       nan\n",
      "     x[44]      0.97      0.00      0.97      0.97      0.97       nan       nan\n",
      "     x[45]     -0.77      0.00     -0.77     -0.77     -0.77       nan       nan\n",
      "     x[46]      0.06      0.00      0.06      0.06      0.06       nan       nan\n",
      "     x[47]     -0.84      0.00     -0.84     -0.84     -0.84       nan       nan\n",
      "     x[48]      0.41      0.00      0.41      0.41      0.41       nan       nan\n",
      "     x[49]     -0.68      0.00     -0.68     -0.68     -0.68       nan       nan\n",
      "     x[50]      0.66      0.00      0.66      0.66      0.66       nan       nan\n",
      "     x[51]     -0.47      0.00     -0.47     -0.47     -0.47       nan       nan\n",
      "     x[52]      0.83      0.00      0.83      0.83      0.83       nan       nan\n",
      "     x[53]     -0.08      0.00     -0.08     -0.08     -0.08       nan       nan\n",
      "     x[54]     -2.02      0.00     -2.02     -2.02     -2.02       nan       nan\n",
      "     x[55]      0.85      0.00      0.85      0.85      0.85       nan       nan\n",
      "     x[56]      1.01      0.00      1.01      1.01      1.01       nan       nan\n",
      "     x[57]     -0.46      0.00     -0.46     -0.46     -0.46       nan       nan\n",
      "     x[58]     -1.86      0.00     -1.86     -1.86     -1.86       nan       nan\n",
      "     x[59]     -0.19      0.00     -0.19     -0.19     -0.19       nan       nan\n",
      "     x[60]     -0.27      0.00     -0.27     -0.27     -0.27       nan       nan\n",
      "     x[61]     -1.96      0.00     -1.96     -1.96     -1.96       nan       nan\n",
      "     x[62]      1.26      0.00      1.26      1.26      1.26       nan       nan\n",
      "     x[63]     -1.25      0.00     -1.25     -1.25     -1.25       nan       nan\n",
      "\n",
      "Number of divergences: 30\n"
     ]
    }
   ],
   "source": [
    "nuts_kernel = NUTS(conditioned_posterior(uf_observed))\n",
    "mcmc = MCMC(nuts_kernel, num_samples=30, warmup_steps=20, num_chains=1)\n",
    "mcmc.run()\n",
    "mcmc.summary()"
   ]
  },
  {
   "cell_type": "code",
   "execution_count": 11,
   "metadata": {},
   "outputs": [
    {
     "data": {
      "text/plain": [
       "148"
      ]
     },
     "execution_count": 11,
     "metadata": {},
     "output_type": "execute_result"
    }
   ],
   "source": [
    "fom.n_forward_calls"
   ]
  },
  {
   "cell_type": "code",
   "execution_count": 12,
   "metadata": {},
   "outputs": [
    {
     "data": {
      "text/plain": [
       "142"
      ]
     },
     "execution_count": 12,
     "metadata": {},
     "output_type": "execute_result"
    }
   ],
   "source": [
    "fom.n_backward_calls"
   ]
  },
  {
   "cell_type": "code",
   "execution_count": 13,
   "metadata": {},
   "outputs": [
    {
     "data": {
      "text/plain": [
       "<matplotlib.colorbar.Colorbar at 0x7fd7bc0d65b0>"
      ]
     },
     "execution_count": 13,
     "metadata": {},
     "output_type": "execute_result"
    },
    {
     "data": {
      "image/png": "[encoded data removed]",
      "text/plain": [
       "<Figure size 2160x1440 with 4 Axes>"
      ]
     },
     "metadata": {
      "needs_background": "light"
     },
     "output_type": "display_data"
    }
   ],
   "source": [
    "fig = plt.figure(figsize=(30, 20))\n",
    "ax = plt.subplot(1, 2, 1)\n",
    "plt.title(fr'$\\beta = {beta}$, true $\\log~ \\lambda_f$')\n",
    "im0 = ax.imshow(x[0].view(lin_dim_rom, lin_dim_rom))\n",
    "divider = make_axes_locatable(ax)\n",
    "cax = divider.append_axes(\"right\", size=\"5%\", pad=0.1)\n",
    "plt.colorbar(im0, cax=cax)\n",
    "\n",
    "ax = plt.subplot(1, 2, 2)\n",
    "plt.title(fr'$\\beta = {beta}$, MCMC estimate $\\left<\\log~ \\lambda_f\\right>$')\n",
    "im1 = ax.imshow(torch.mean(mcmc.get_samples()['x'], 0).view(lin_dim_rom, lin_dim_rom))\n",
    "divider = make_axes_locatable(ax)\n",
    "cax = divider.append_axes(\"right\", size=\"5%\", pad=0.1)\n",
    "plt.colorbar(im1, cax=cax)"
   ]
  },
  {
   "cell_type": "code",
   "execution_count": 14,
   "metadata": {},
   "outputs": [],
   "source": [
    "fom.n_forward_calls = 0\n",
    "fom.n_backward_calls = 0"
   ]
  },
  {
   "cell_type": "code",
   "execution_count": 15,
   "metadata": {
    "scrolled": false
   },
   "outputs": [
    {
     "name": "stderr",
     "output_type": "stream",
     "text": [
      "Warmup:   0%|          | 0/50 [00:00, ?it/s]/home/constantin/cluster/python/projects/rom_inverse/ROM.py:128: TracerWarning: Converting a tensor to a NumPy array might cause the trace to be incorrect. We can't record the data flow of Python values, so this value will be treated as a constant in the future. This means that the trace might not generalize to other inputs!\n",
      "  lmbda = lmbda.detach().numpy()\n",
      "/home/constantin/cluster/python/projects/rom_inverse/ROM.py:136: TracerWarning: torch.tensor results are registered as constants in the trace. You can safely ignore this warning if you use this function to create tensors out of constant variables that would be the same every time you call this function. In any other case, this might cause the trace to be incorrect.\n",
      "  return torch.tensor(self.interpolated_solution.array, dtype=self.dtype)\n",
      "Sample: 100%|██████████| 50/50 [00:00, 209.61it/s, step size=6.03e-03, acc. prob=0.953]"
     ]
    },
    {
     "name": "stdout",
     "output_type": "stream",
     "text": [
      "\n",
      "                mean       std    median      5.0%     95.0%     n_eff     r_hat\n",
      "      x[0]     -0.40      0.00     -0.40     -0.40     -0.39     55.12      1.01\n",
      "      x[1]     -0.23      0.00     -0.23     -0.23     -0.23      3.54      1.87\n",
      "      x[2]     -0.58      0.00     -0.58     -0.59     -0.58      2.54      2.64\n",
      "      x[3]      1.31      0.00      1.31      1.31      1.31      2.70      2.50\n",
      "      x[4]     -0.28      0.00     -0.28     -0.28     -0.27      2.83      2.11\n",
      "      x[5]     -0.80      0.08     -0.80     -0.92     -0.66      2.61      2.39\n",
      "      x[6]     -1.77      0.01     -1.77     -1.78     -1.76      2.71      2.25\n",
      "      x[7]     -0.12      0.05     -0.13     -0.20     -0.03      2.59      2.43\n",
      "      x[8]     -1.72      0.00     -1.72     -1.72     -1.72      3.26      1.74\n",
      "      x[9]     -0.13      0.01     -0.13     -0.14     -0.12      2.71      2.22\n",
      "     x[10]     -0.07      0.00     -0.07     -0.07     -0.07      4.13      1.33\n",
      "     x[11]      0.94      0.00      0.94      0.94      0.94      2.72      2.56\n",
      "     x[12]      1.09      0.00      1.09      1.09      1.09      5.19      1.24\n",
      "     x[13]      1.11      0.00      1.11      1.11      1.11      5.14      1.20\n",
      "     x[14]      0.46      0.00      0.46      0.46      0.46      8.03      1.09\n",
      "     x[15]      0.99      0.00      0.99      0.99      1.00      2.53      2.66\n",
      "     x[16]      0.70      0.00      0.70      0.70      0.70      4.80      1.35\n",
      "     x[17]      0.52      0.00      0.52      0.52      0.52      3.07      2.06\n",
      "     x[18]      1.64      0.00      1.64      1.64      1.64      5.30      1.33\n",
      "     x[19]      1.77      0.00      1.77      1.77      1.77      3.37      1.76\n",
      "     x[20]      1.89      0.00      1.89      1.89      1.89      5.84      1.25\n",
      "     x[21]      0.14      0.00      0.14      0.14      0.14      3.12      2.07\n",
      "     x[22]     -0.80      0.00     -0.80     -0.80     -0.80      2.56      2.49\n",
      "     x[23]     -0.19      0.06     -0.20     -0.28     -0.09      2.58      2.45\n",
      "     x[24]      1.39      0.00      1.39      1.39      1.39      2.43      2.72\n",
      "     x[25]      0.84      0.00      0.84      0.84      0.84      6.63      1.28\n",
      "     x[26]      1.27      0.00      1.27      1.27      1.27      3.73      1.64\n",
      "     x[27]      0.72      0.00      0.72      0.72      0.72      3.87      1.37\n",
      "     x[28]      0.68      0.01      0.68      0.66      0.68      2.61      2.36\n",
      "     x[29]     -0.09      0.01     -0.09     -0.11     -0.07      2.52      2.57\n",
      "     x[30]     -1.90      0.00     -1.90     -1.90     -1.90      2.62      3.27\n",
      "     x[31]      0.79      0.00      0.79      0.79      0.79      2.77      2.08\n",
      "     x[32]     -0.19      0.00     -0.19     -0.19     -0.19      3.03      1.83\n",
      "     x[33]      1.73      0.00      1.73      1.73      1.73      4.43      1.54\n",
      "     x[34]     -0.92      0.00     -0.92     -0.92     -0.92      5.03      1.07\n",
      "     x[35]     -1.36      0.00     -1.37     -1.37     -1.36      2.75      2.28\n",
      "     x[36]     -1.83      0.00     -1.83     -1.83     -1.83      8.95      0.97\n",
      "     x[37]      1.30      0.00      1.31      1.30      1.31      2.70      2.30\n",
      "     x[38]     -0.13      0.00     -0.13     -0.13     -0.12      3.82      1.31\n",
      "     x[39]     -1.30      0.00     -1.30     -1.30     -1.30      8.00      1.16\n",
      "     x[40]      1.22      0.00      1.22      1.22      1.22      3.68      2.02\n",
      "     x[41]     -0.51      0.00     -0.51     -0.51     -0.51      2.46      2.83\n",
      "     x[42]     -1.27      0.00     -1.27     -1.27     -1.27      2.80      2.06\n",
      "     x[43]      0.77      0.00      0.77      0.77      0.77      2.60      2.39\n",
      "     x[44]      0.90      0.00      0.90      0.90      0.90      2.68      2.33\n",
      "     x[45]      1.54      0.00      1.54      1.54      1.54      2.90      2.07\n",
      "     x[46]     -0.78      0.00     -0.78     -0.78     -0.78      3.33      1.52\n",
      "     x[47]      0.74      0.00      0.74      0.74      0.74      2.52      2.59\n",
      "     x[48]      0.91      0.00      0.91      0.91      0.91      2.86      2.14\n",
      "     x[49]     -0.73      0.00     -0.73     -0.73     -0.73      2.56      2.51\n",
      "     x[50]      1.86      0.00      1.86      1.86      1.86      7.97      0.97\n",
      "     x[51]     -1.33      0.00     -1.33     -1.33     -1.33      7.86      1.01\n",
      "     x[52]     -0.98      0.00     -0.98     -0.98     -0.98      2.72      2.21\n",
      "     x[53]      0.78      0.01      0.78      0.77      0.79      2.60      2.41\n",
      "     x[54]     -0.98      0.00     -0.98     -0.98     -0.98      3.23      1.89\n",
      "     x[55]      1.40      0.00      1.40      1.40      1.40      3.75      1.55\n",
      "     x[56]      1.62      0.00      1.62      1.62      1.62      6.87      1.12\n",
      "     x[57]     -0.02      0.00     -0.02     -0.02     -0.02      3.90      1.67\n",
      "     x[58]      1.59      0.00      1.59      1.59      1.59      3.24      1.61\n",
      "     x[59]     -1.93      0.00     -1.93     -1.93     -1.93      4.12      1.91\n",
      "     x[60]     -1.15      0.00     -1.15     -1.15     -1.15      3.28      1.75\n",
      "     x[61]      0.97      0.00      0.97      0.97      0.97      3.22      1.85\n",
      "     x[62]      1.52      0.00      1.52      1.52      1.52      2.85      2.05\n",
      "     x[63]      0.50      0.00      0.50      0.50      0.51      2.84      2.01\n",
      "\n",
      "Number of divergences: 0\n"
     ]
    },
    {
     "name": "stderr",
     "output_type": "stream",
     "text": [
      "\n"
     ]
    }
   ],
   "source": [
    "hmc_kernel = HMC(conditioned_posterior(uf_observed), step_size=1e-4, num_steps=1, jit_compile=True)\n",
    "mcmc = MCMC(hmc_kernel, num_samples=30, warmup_steps=20, num_chains=1)\n",
    "mcmc.run()\n",
    "mcmc.summary()"
   ]
  },
  {
   "cell_type": "code",
   "execution_count": 16,
   "metadata": {},
   "outputs": [
    {
     "name": "stdout",
     "output_type": "stream",
     "text": [
      "forward calls:    76\n",
      "backward calls:   70\n"
     ]
    }
   ],
   "source": [
    "print('forward calls:   ', fom.n_forward_calls)\n",
    "print('backward calls:  ', fom.n_backward_calls)"
   ]
  },
  {
   "cell_type": "code",
   "execution_count": 20,
   "metadata": {},
   "outputs": [
    {
     "data": {
      "text/plain": [
       "<matplotlib.colorbar.Colorbar at 0x7fd7a81ebb20>"
      ]
     },
     "execution_count": 20,
     "metadata": {},
     "output_type": "execute_result"
    },
    {
     "data": {
      "image/png": "[encoded data removed]",
      "text/plain": [
       "<Figure size 2160x1440 with 4 Axes>"
      ]
     },
     "metadata": {
      "needs_background": "light"
     },
     "output_type": "display_data"
    }
   ],
   "source": [
    "fig = plt.figure(figsize=(30, 20))\n",
    "ax = plt.subplot(1, 2, 1)\n",
    "plt.title(fr'$\\beta = {beta}$, true $\\log~ \\lambda_f$')\n",
    "im0 = ax.imshow(x[0].view(lin_dim_rom, lin_dim_rom))\n",
    "divider = make_axes_locatable(ax)\n",
    "cax = divider.append_axes(\"right\", size=\"5%\", pad=0.1)\n",
    "plt.colorbar(im0, cax=cax)\n",
    "\n",
    "ax = plt.subplot(1, 2, 2)\n",
    "plt.title(fr'$\\beta = {beta}$, MCMC estimate $\\left<\\log~ \\lambda_f\\right>$')\n",
    "im1 = ax.imshow(torch.mean(mcmc.get_samples()['x'], 0).view(lin_dim_rom, lin_dim_rom))\n",
    "divider = make_axes_locatable(ax)\n",
    "cax = divider.append_axes(\"right\", size=\"5%\", pad=0.1)\n",
    "plt.colorbar(im1, cax=cax)"
   ]
  },
  {
   "cell_type": "code",
   "execution_count": 21,
   "metadata": {
    "scrolled": true
   },
   "outputs": [
    {
     "data": {
      "text/plain": [
       "<matplotlib.image.AxesImage at 0x7fd7a818db50>"
      ]
     },
     "execution_count": 21,
     "metadata": {},
     "output_type": "execute_result"
    },
    {
     "data": {
      "image/png": "[encoded data removed]",
      "text/plain": [
       "<Figure size 432x288 with 1 Axes>"
      ]
     },
     "metadata": {
      "needs_background": "light"
     },
     "output_type": "display_data"
    }
   ],
   "source": [
    "plt.imshow(fom.mesh.interpolation_matrix_torch)"
   ]
  },
  {
   "cell_type": "code",
   "execution_count": 22,
   "metadata": {},
   "outputs": [],
   "source": [
    "lambdaf = torch.ones(8**2)"
   ]
  },
  {
   "cell_type": "code",
   "execution_count": 23,
   "metadata": {},
   "outputs": [],
   "source": [
    "uf = fom_autograd(lambdaf)"
   ]
  },
  {
   "cell_type": "code",
   "execution_count": 28,
   "metadata": {},
   "outputs": [
    {
     "data": {
      "text/plain": [
       "<matplotlib.image.AxesImage at 0x7fd7a84125b0>"
      ]
     },
     "execution_count": 28,
     "metadata": {},
     "output_type": "execute_result"
    },
    {
     "data": {
      "image/png": "[encoded data removed]",
      "text/plain": [
       "<Figure size 432x288 with 1 Axes>"
      ]
     },
     "metadata": {
      "needs_background": "light"
     },
     "output_type": "display_data"
    }
   ],
   "source": [
    "plt.imshow(np.reshape(fom.full_solution.array, (lin_dim_rom + 1, lin_dim_rom + 1)))"
   ]
  },
  {
   "cell_type": "code",
   "execution_count": 27,
   "metadata": {},
   "outputs": [
    {
     "data": {
      "text/plain": [
       "<matplotlib.image.AxesImage at 0x7fd7a83bc7c0>"
      ]
     },
     "execution_count": 27,
     "metadata": {},
     "output_type": "execute_result"
    },
    {
     "data": {
      "image/png": "[encoded data removed]",
      "text/plain": [
       "<Figure size 432x288 with 1 Axes>"
      ]
     },
     "metadata": {
      "needs_background": "light"
     },
     "output_type": "display_data"
    }
   ],
   "source": [
    "plt.imshow(np.reshape(fom.interpolated_solution.array, (lin_dim_fom + 1, lin_dim_fom + 1)))"
   ]
  },
  {
   "cell_type": "code",
   "execution_count": null,
   "metadata": {},
   "outputs": [],
   "source": [
    "torch.set_printoptions(threshold=5000)"
   ]
  },
  {
   "cell_type": "code",
   "execution_count": null,
   "metadata": {},
   "outputs": [],
   "source": []
  }
 ],
 "metadata": {
  "kernelspec": {
   "display_name": "Python 3",
   "language": "python",
   "name": "python3"
  },
  "language_info": {
   "codemirror_mode": {
    "name": "ipython",
    "version": 3
   },
   "file_extension": ".py",
   "mimetype": "text/x-python",
   "name": "python",
   "nbconvert_exporter": "python",
   "pygments_lexer": "ipython3",
   "version": "3.8.1"
  }
 },
 "nbformat": 4,
 "nbformat_minor": 4
}
